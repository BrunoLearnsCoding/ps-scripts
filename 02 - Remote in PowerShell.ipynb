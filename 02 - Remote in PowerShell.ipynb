{
 "cells": [
  {
   "cell_type": "markdown",
   "metadata": {},
   "source": [
    "# Remote in PowerShell\n",
    "\n",
    "Two(2) protocols can be used in remote PowerShell:\n",
    "\n",
    "- WinRM (Windows Remote Management) \n",
    "  which is Microsoft's implementation of WS-MAN (Web services for management)\n",
    "  \n",
    "- OpenSSH for Windows \n",
    "  which is microsoft's implementation of SSH (Secure Shell)\n",
    "\n",
    "\n",
    "## Win-RM\n",
    "\n",
    "- It operates entirely over HTTP or HTTPS, making it easy to rout through firewalls\n",
    "- It is a background service in Windows\n",
    "- The service name on Windows in WinRM\n",
    "- It is by default enabled on Windows Servers and disabled on Clients \n",
    "\n",
    "Remember: PowerShell cmdlets produce OBJECTs as their output. When you run a command on a remote computer, the output is serialized in XML form, transmitted across the network and then deserialized on local computer. The deserialied output on the local computer are just snapshots and don't update themselves continually\n",
    "\n",
    "\n",
    "\n"
   ]
  },
  {
   "cell_type": "markdown",
   "metadata": {},
   "source": [
    "## Setting up PSRP over SSH on Windows\n",
    "You may want to set up PowerShell remoting protocol (PSRP) over SSH on any Windows\n",
    "machine you have PowerShell Core installed on. We won’t go into the details\n",
    "on how to set this up, but the instructions are available in Microsoft’s documentation:\n",
    "http://mng.bz/laPd."
   ]
  }
 ],
 "metadata": {
  "language_info": {
   "name": "python"
  }
 },
 "nbformat": 4,
 "nbformat_minor": 2
}
