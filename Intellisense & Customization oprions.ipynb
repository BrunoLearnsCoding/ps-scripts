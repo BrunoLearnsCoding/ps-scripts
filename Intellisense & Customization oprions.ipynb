{
 "cells": [
  {
   "cell_type": "markdown",
   "metadata": {},
   "source": [
    "# Intellisense in Shell"
   ]
  },
  {
   "cell_type": "markdown",
   "metadata": {},
   "source": [
    "## Keyboard Shortcuts\n",
    "\n",
    "    ctrl + space : Tab Menu\n",
    "\n",
    "    ctrl + r : Search history\n",
    "\n",
    "    ctrl + c : Copy selection\n",
    "\n",
    "    ctrl + v : Paste selection\n",
    "\n",
    "    ctrl + a : select all the command  line\n",
    "\n",
    "    shift + enter : type multiple lines in your console whitout executing a command.\n",
    "\n"
   ]
  },
  {
   "cell_type": "markdown",
   "metadata": {},
   "source": []
  }
 ],
 "metadata": {
  "kernelspec": {
   "display_name": ".NET (C#)",
   "language": "C#",
   "name": ".net-csharp"
  },
  "language_info": {
   "name": "csharp"
  },
  "polyglot_notebook": {
   "kernelInfo": {
    "defaultKernelName": "csharp",
    "items": [
     {
      "aliases": [],
      "name": "csharp"
     }
    ]
   }
  }
 },
 "nbformat": 4,
 "nbformat_minor": 2
}
